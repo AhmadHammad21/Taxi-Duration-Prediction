{
 "cells": [
  {
   "cell_type": "code",
   "execution_count": 1,
   "metadata": {},
   "outputs": [],
   "source": [
    "import requests\n",
    "import json\n",
    "import os\n",
    "# from dotenv import load_dotenv\n",
    "# load_dotenv()\n",
    "\n",
    "# TOKEN = os.getenv(\"TOKEN\")\n",
    "import pandas as pd"
   ]
  },
  {
   "cell_type": "code",
   "execution_count": 2,
   "metadata": {},
   "outputs": [],
   "source": [
    "jan_df = pd.read_parquet('https://d37ci6vzurychx.cloudfront.net/trip-data/yellow_tripdata_2024-01.parquet')\n",
    "feb_df = pd.read_parquet('https://d37ci6vzurychx.cloudfront.net/trip-data/yellow_tripdata_2024-02.parquet')"
   ]
  },
  {
   "cell_type": "code",
   "execution_count": 3,
   "metadata": {},
   "outputs": [
    {
     "data": {
      "text/html": [
       "<div>\n",
       "<style scoped>\n",
       "    .dataframe tbody tr th:only-of-type {\n",
       "        vertical-align: middle;\n",
       "    }\n",
       "\n",
       "    .dataframe tbody tr th {\n",
       "        vertical-align: top;\n",
       "    }\n",
       "\n",
       "    .dataframe thead th {\n",
       "        text-align: right;\n",
       "    }\n",
       "</style>\n",
       "<table border=\"1\" class=\"dataframe\">\n",
       "  <thead>\n",
       "    <tr style=\"text-align: right;\">\n",
       "      <th></th>\n",
       "      <th>VendorID</th>\n",
       "      <th>tpep_pickup_datetime</th>\n",
       "      <th>tpep_dropoff_datetime</th>\n",
       "      <th>passenger_count</th>\n",
       "      <th>trip_distance</th>\n",
       "      <th>RatecodeID</th>\n",
       "      <th>store_and_fwd_flag</th>\n",
       "      <th>PULocationID</th>\n",
       "      <th>DOLocationID</th>\n",
       "      <th>payment_type</th>\n",
       "      <th>fare_amount</th>\n",
       "      <th>extra</th>\n",
       "      <th>mta_tax</th>\n",
       "      <th>tip_amount</th>\n",
       "      <th>tolls_amount</th>\n",
       "      <th>improvement_surcharge</th>\n",
       "      <th>total_amount</th>\n",
       "      <th>congestion_surcharge</th>\n",
       "      <th>Airport_fee</th>\n",
       "    </tr>\n",
       "  </thead>\n",
       "  <tbody>\n",
       "    <tr>\n",
       "      <th>0</th>\n",
       "      <td>2</td>\n",
       "      <td>2024-01-01 00:57:55</td>\n",
       "      <td>2024-01-01 01:17:43</td>\n",
       "      <td>1.0</td>\n",
       "      <td>1.72</td>\n",
       "      <td>1.0</td>\n",
       "      <td>N</td>\n",
       "      <td>186</td>\n",
       "      <td>79</td>\n",
       "      <td>2</td>\n",
       "      <td>17.7</td>\n",
       "      <td>1.0</td>\n",
       "      <td>0.5</td>\n",
       "      <td>0.00</td>\n",
       "      <td>0.0</td>\n",
       "      <td>1.0</td>\n",
       "      <td>22.70</td>\n",
       "      <td>2.5</td>\n",
       "      <td>0.0</td>\n",
       "    </tr>\n",
       "    <tr>\n",
       "      <th>1</th>\n",
       "      <td>1</td>\n",
       "      <td>2024-01-01 00:03:00</td>\n",
       "      <td>2024-01-01 00:09:36</td>\n",
       "      <td>1.0</td>\n",
       "      <td>1.80</td>\n",
       "      <td>1.0</td>\n",
       "      <td>N</td>\n",
       "      <td>140</td>\n",
       "      <td>236</td>\n",
       "      <td>1</td>\n",
       "      <td>10.0</td>\n",
       "      <td>3.5</td>\n",
       "      <td>0.5</td>\n",
       "      <td>3.75</td>\n",
       "      <td>0.0</td>\n",
       "      <td>1.0</td>\n",
       "      <td>18.75</td>\n",
       "      <td>2.5</td>\n",
       "      <td>0.0</td>\n",
       "    </tr>\n",
       "    <tr>\n",
       "      <th>2</th>\n",
       "      <td>1</td>\n",
       "      <td>2024-01-01 00:17:06</td>\n",
       "      <td>2024-01-01 00:35:01</td>\n",
       "      <td>1.0</td>\n",
       "      <td>4.70</td>\n",
       "      <td>1.0</td>\n",
       "      <td>N</td>\n",
       "      <td>236</td>\n",
       "      <td>79</td>\n",
       "      <td>1</td>\n",
       "      <td>23.3</td>\n",
       "      <td>3.5</td>\n",
       "      <td>0.5</td>\n",
       "      <td>3.00</td>\n",
       "      <td>0.0</td>\n",
       "      <td>1.0</td>\n",
       "      <td>31.30</td>\n",
       "      <td>2.5</td>\n",
       "      <td>0.0</td>\n",
       "    </tr>\n",
       "  </tbody>\n",
       "</table>\n",
       "</div>"
      ],
      "text/plain": [
       "   VendorID tpep_pickup_datetime tpep_dropoff_datetime  passenger_count  \\\n",
       "0         2  2024-01-01 00:57:55   2024-01-01 01:17:43              1.0   \n",
       "1         1  2024-01-01 00:03:00   2024-01-01 00:09:36              1.0   \n",
       "2         1  2024-01-01 00:17:06   2024-01-01 00:35:01              1.0   \n",
       "\n",
       "   trip_distance  RatecodeID store_and_fwd_flag  PULocationID  DOLocationID  \\\n",
       "0           1.72         1.0                  N           186            79   \n",
       "1           1.80         1.0                  N           140           236   \n",
       "2           4.70         1.0                  N           236            79   \n",
       "\n",
       "   payment_type  fare_amount  extra  mta_tax  tip_amount  tolls_amount  \\\n",
       "0             2         17.7    1.0      0.5        0.00           0.0   \n",
       "1             1         10.0    3.5      0.5        3.75           0.0   \n",
       "2             1         23.3    3.5      0.5        3.00           0.0   \n",
       "\n",
       "   improvement_surcharge  total_amount  congestion_surcharge  Airport_fee  \n",
       "0                    1.0         22.70                   2.5          0.0  \n",
       "1                    1.0         18.75                   2.5          0.0  \n",
       "2                    1.0         31.30                   2.5          0.0  "
      ]
     },
     "execution_count": 3,
     "metadata": {},
     "output_type": "execute_result"
    }
   ],
   "source": [
    "jan_df.head(3)"
   ]
  },
  {
   "cell_type": "markdown",
   "metadata": {},
   "source": [
    "We can do two models here  \n",
    "    - `duration`  \n",
    "    - `amount of money`  \n",
    "But will start of duration model"
   ]
  },
  {
   "cell_type": "code",
   "execution_count": 4,
   "metadata": {},
   "outputs": [
    {
     "data": {
      "text/plain": [
       "VendorID\n",
       "2    2234632\n",
       "1     729732\n",
       "6        260\n",
       "Name: count, dtype: int64"
      ]
     },
     "execution_count": 4,
     "metadata": {},
     "output_type": "execute_result"
    }
   ],
   "source": [
    "jan_df['VendorID'].value_counts()"
   ]
  },
  {
   "cell_type": "code",
   "execution_count": 5,
   "metadata": {},
   "outputs": [],
   "source": [
    "jan_df['tpep_dropoff_datetime'] = pd.to_datetime(jan_df['tpep_dropoff_datetime'])\n",
    "jan_df['tpep_pickup_datetime'] = pd.to_datetime(jan_df['tpep_pickup_datetime'])\n",
    "jan_df['duration'] = (jan_df['tpep_dropoff_datetime'] - jan_df['tpep_pickup_datetime'])\n",
    "\n",
    "jan_df['duration'] = jan_df['duration'].dt.total_seconds() / 60"
   ]
  },
  {
   "cell_type": "code",
   "execution_count": 6,
   "metadata": {},
   "outputs": [
    {
     "data": {
      "text/html": [
       "<div>\n",
       "<style scoped>\n",
       "    .dataframe tbody tr th:only-of-type {\n",
       "        vertical-align: middle;\n",
       "    }\n",
       "\n",
       "    .dataframe tbody tr th {\n",
       "        vertical-align: top;\n",
       "    }\n",
       "\n",
       "    .dataframe thead th {\n",
       "        text-align: right;\n",
       "    }\n",
       "</style>\n",
       "<table border=\"1\" class=\"dataframe\">\n",
       "  <thead>\n",
       "    <tr style=\"text-align: right;\">\n",
       "      <th></th>\n",
       "      <th>VendorID</th>\n",
       "      <th>tpep_pickup_datetime</th>\n",
       "      <th>tpep_dropoff_datetime</th>\n",
       "      <th>passenger_count</th>\n",
       "      <th>trip_distance</th>\n",
       "      <th>RatecodeID</th>\n",
       "      <th>PULocationID</th>\n",
       "      <th>DOLocationID</th>\n",
       "      <th>payment_type</th>\n",
       "      <th>fare_amount</th>\n",
       "      <th>extra</th>\n",
       "      <th>mta_tax</th>\n",
       "      <th>tip_amount</th>\n",
       "      <th>tolls_amount</th>\n",
       "      <th>improvement_surcharge</th>\n",
       "      <th>total_amount</th>\n",
       "      <th>congestion_surcharge</th>\n",
       "      <th>Airport_fee</th>\n",
       "      <th>duration</th>\n",
       "    </tr>\n",
       "  </thead>\n",
       "  <tbody>\n",
       "    <tr>\n",
       "      <th>count</th>\n",
       "      <td>2.964624e+06</td>\n",
       "      <td>2964624</td>\n",
       "      <td>2964624</td>\n",
       "      <td>2.824462e+06</td>\n",
       "      <td>2.964624e+06</td>\n",
       "      <td>2.824462e+06</td>\n",
       "      <td>2.964624e+06</td>\n",
       "      <td>2.964624e+06</td>\n",
       "      <td>2.964624e+06</td>\n",
       "      <td>2.964624e+06</td>\n",
       "      <td>2.964624e+06</td>\n",
       "      <td>2.964624e+06</td>\n",
       "      <td>2.964624e+06</td>\n",
       "      <td>2.964624e+06</td>\n",
       "      <td>2.964624e+06</td>\n",
       "      <td>2.964624e+06</td>\n",
       "      <td>2.824462e+06</td>\n",
       "      <td>2.824462e+06</td>\n",
       "      <td>2.964624e+06</td>\n",
       "    </tr>\n",
       "    <tr>\n",
       "      <th>mean</th>\n",
       "      <td>1.754204e+00</td>\n",
       "      <td>2024-01-17 00:46:36.431092</td>\n",
       "      <td>2024-01-17 01:02:13.208130</td>\n",
       "      <td>1.339281e+00</td>\n",
       "      <td>3.652169e+00</td>\n",
       "      <td>2.069359e+00</td>\n",
       "      <td>1.660179e+02</td>\n",
       "      <td>1.651167e+02</td>\n",
       "      <td>1.161271e+00</td>\n",
       "      <td>1.817506e+01</td>\n",
       "      <td>1.451598e+00</td>\n",
       "      <td>4.833823e-01</td>\n",
       "      <td>3.335870e+00</td>\n",
       "      <td>5.270212e-01</td>\n",
       "      <td>9.756319e-01</td>\n",
       "      <td>2.680150e+01</td>\n",
       "      <td>2.256122e+00</td>\n",
       "      <td>1.411611e-01</td>\n",
       "      <td>1.561295e+01</td>\n",
       "    </tr>\n",
       "    <tr>\n",
       "      <th>min</th>\n",
       "      <td>1.000000e+00</td>\n",
       "      <td>2002-12-31 22:59:39</td>\n",
       "      <td>2002-12-31 23:05:41</td>\n",
       "      <td>0.000000e+00</td>\n",
       "      <td>0.000000e+00</td>\n",
       "      <td>1.000000e+00</td>\n",
       "      <td>1.000000e+00</td>\n",
       "      <td>1.000000e+00</td>\n",
       "      <td>0.000000e+00</td>\n",
       "      <td>-8.990000e+02</td>\n",
       "      <td>-7.500000e+00</td>\n",
       "      <td>-5.000000e-01</td>\n",
       "      <td>-8.000000e+01</td>\n",
       "      <td>-8.000000e+01</td>\n",
       "      <td>-1.000000e+00</td>\n",
       "      <td>-9.000000e+02</td>\n",
       "      <td>-2.500000e+00</td>\n",
       "      <td>-1.750000e+00</td>\n",
       "      <td>-1.356667e+01</td>\n",
       "    </tr>\n",
       "    <tr>\n",
       "      <th>25%</th>\n",
       "      <td>2.000000e+00</td>\n",
       "      <td>2024-01-09 15:59:19.750000</td>\n",
       "      <td>2024-01-09 16:16:23</td>\n",
       "      <td>1.000000e+00</td>\n",
       "      <td>1.000000e+00</td>\n",
       "      <td>1.000000e+00</td>\n",
       "      <td>1.320000e+02</td>\n",
       "      <td>1.140000e+02</td>\n",
       "      <td>1.000000e+00</td>\n",
       "      <td>8.600000e+00</td>\n",
       "      <td>0.000000e+00</td>\n",
       "      <td>5.000000e-01</td>\n",
       "      <td>1.000000e+00</td>\n",
       "      <td>0.000000e+00</td>\n",
       "      <td>1.000000e+00</td>\n",
       "      <td>1.538000e+01</td>\n",
       "      <td>2.500000e+00</td>\n",
       "      <td>0.000000e+00</td>\n",
       "      <td>7.150000e+00</td>\n",
       "    </tr>\n",
       "    <tr>\n",
       "      <th>50%</th>\n",
       "      <td>2.000000e+00</td>\n",
       "      <td>2024-01-17 10:45:37.500000</td>\n",
       "      <td>2024-01-17 11:03:51.500000</td>\n",
       "      <td>1.000000e+00</td>\n",
       "      <td>1.680000e+00</td>\n",
       "      <td>1.000000e+00</td>\n",
       "      <td>1.620000e+02</td>\n",
       "      <td>1.620000e+02</td>\n",
       "      <td>1.000000e+00</td>\n",
       "      <td>1.280000e+01</td>\n",
       "      <td>1.000000e+00</td>\n",
       "      <td>5.000000e-01</td>\n",
       "      <td>2.700000e+00</td>\n",
       "      <td>0.000000e+00</td>\n",
       "      <td>1.000000e+00</td>\n",
       "      <td>2.010000e+01</td>\n",
       "      <td>2.500000e+00</td>\n",
       "      <td>0.000000e+00</td>\n",
       "      <td>1.163333e+01</td>\n",
       "    </tr>\n",
       "    <tr>\n",
       "      <th>75%</th>\n",
       "      <td>2.000000e+00</td>\n",
       "      <td>2024-01-24 18:23:52.250000</td>\n",
       "      <td>2024-01-24 18:40:29</td>\n",
       "      <td>1.000000e+00</td>\n",
       "      <td>3.110000e+00</td>\n",
       "      <td>1.000000e+00</td>\n",
       "      <td>2.340000e+02</td>\n",
       "      <td>2.340000e+02</td>\n",
       "      <td>1.000000e+00</td>\n",
       "      <td>2.050000e+01</td>\n",
       "      <td>2.500000e+00</td>\n",
       "      <td>5.000000e-01</td>\n",
       "      <td>4.120000e+00</td>\n",
       "      <td>0.000000e+00</td>\n",
       "      <td>1.000000e+00</td>\n",
       "      <td>2.856000e+01</td>\n",
       "      <td>2.500000e+00</td>\n",
       "      <td>0.000000e+00</td>\n",
       "      <td>1.868333e+01</td>\n",
       "    </tr>\n",
       "    <tr>\n",
       "      <th>max</th>\n",
       "      <td>6.000000e+00</td>\n",
       "      <td>2024-02-01 00:01:15</td>\n",
       "      <td>2024-02-02 13:56:52</td>\n",
       "      <td>9.000000e+00</td>\n",
       "      <td>3.127223e+05</td>\n",
       "      <td>9.900000e+01</td>\n",
       "      <td>2.650000e+02</td>\n",
       "      <td>2.650000e+02</td>\n",
       "      <td>4.000000e+00</td>\n",
       "      <td>5.000000e+03</td>\n",
       "      <td>1.425000e+01</td>\n",
       "      <td>4.000000e+00</td>\n",
       "      <td>4.280000e+02</td>\n",
       "      <td>1.159200e+02</td>\n",
       "      <td>1.000000e+00</td>\n",
       "      <td>5.000000e+03</td>\n",
       "      <td>2.500000e+00</td>\n",
       "      <td>1.750000e+00</td>\n",
       "      <td>9.455400e+03</td>\n",
       "    </tr>\n",
       "    <tr>\n",
       "      <th>std</th>\n",
       "      <td>4.325902e-01</td>\n",
       "      <td>NaN</td>\n",
       "      <td>NaN</td>\n",
       "      <td>8.502817e-01</td>\n",
       "      <td>2.254626e+02</td>\n",
       "      <td>9.823219e+00</td>\n",
       "      <td>6.362391e+01</td>\n",
       "      <td>6.931535e+01</td>\n",
       "      <td>5.808686e-01</td>\n",
       "      <td>1.894955e+01</td>\n",
       "      <td>1.804102e+00</td>\n",
       "      <td>1.177600e-01</td>\n",
       "      <td>3.896551e+00</td>\n",
       "      <td>2.128310e+00</td>\n",
       "      <td>2.183645e-01</td>\n",
       "      <td>2.338558e+01</td>\n",
       "      <td>8.232747e-01</td>\n",
       "      <td>4.876239e-01</td>\n",
       "      <td>3.485105e+01</td>\n",
       "    </tr>\n",
       "  </tbody>\n",
       "</table>\n",
       "</div>"
      ],
      "text/plain": [
       "           VendorID        tpep_pickup_datetime       tpep_dropoff_datetime  \\\n",
       "count  2.964624e+06                     2964624                     2964624   \n",
       "mean   1.754204e+00  2024-01-17 00:46:36.431092  2024-01-17 01:02:13.208130   \n",
       "min    1.000000e+00         2002-12-31 22:59:39         2002-12-31 23:05:41   \n",
       "25%    2.000000e+00  2024-01-09 15:59:19.750000         2024-01-09 16:16:23   \n",
       "50%    2.000000e+00  2024-01-17 10:45:37.500000  2024-01-17 11:03:51.500000   \n",
       "75%    2.000000e+00  2024-01-24 18:23:52.250000         2024-01-24 18:40:29   \n",
       "max    6.000000e+00         2024-02-01 00:01:15         2024-02-02 13:56:52   \n",
       "std    4.325902e-01                         NaN                         NaN   \n",
       "\n",
       "       passenger_count  trip_distance    RatecodeID  PULocationID  \\\n",
       "count     2.824462e+06   2.964624e+06  2.824462e+06  2.964624e+06   \n",
       "mean      1.339281e+00   3.652169e+00  2.069359e+00  1.660179e+02   \n",
       "min       0.000000e+00   0.000000e+00  1.000000e+00  1.000000e+00   \n",
       "25%       1.000000e+00   1.000000e+00  1.000000e+00  1.320000e+02   \n",
       "50%       1.000000e+00   1.680000e+00  1.000000e+00  1.620000e+02   \n",
       "75%       1.000000e+00   3.110000e+00  1.000000e+00  2.340000e+02   \n",
       "max       9.000000e+00   3.127223e+05  9.900000e+01  2.650000e+02   \n",
       "std       8.502817e-01   2.254626e+02  9.823219e+00  6.362391e+01   \n",
       "\n",
       "       DOLocationID  payment_type   fare_amount         extra       mta_tax  \\\n",
       "count  2.964624e+06  2.964624e+06  2.964624e+06  2.964624e+06  2.964624e+06   \n",
       "mean   1.651167e+02  1.161271e+00  1.817506e+01  1.451598e+00  4.833823e-01   \n",
       "min    1.000000e+00  0.000000e+00 -8.990000e+02 -7.500000e+00 -5.000000e-01   \n",
       "25%    1.140000e+02  1.000000e+00  8.600000e+00  0.000000e+00  5.000000e-01   \n",
       "50%    1.620000e+02  1.000000e+00  1.280000e+01  1.000000e+00  5.000000e-01   \n",
       "75%    2.340000e+02  1.000000e+00  2.050000e+01  2.500000e+00  5.000000e-01   \n",
       "max    2.650000e+02  4.000000e+00  5.000000e+03  1.425000e+01  4.000000e+00   \n",
       "std    6.931535e+01  5.808686e-01  1.894955e+01  1.804102e+00  1.177600e-01   \n",
       "\n",
       "         tip_amount  tolls_amount  improvement_surcharge  total_amount  \\\n",
       "count  2.964624e+06  2.964624e+06           2.964624e+06  2.964624e+06   \n",
       "mean   3.335870e+00  5.270212e-01           9.756319e-01  2.680150e+01   \n",
       "min   -8.000000e+01 -8.000000e+01          -1.000000e+00 -9.000000e+02   \n",
       "25%    1.000000e+00  0.000000e+00           1.000000e+00  1.538000e+01   \n",
       "50%    2.700000e+00  0.000000e+00           1.000000e+00  2.010000e+01   \n",
       "75%    4.120000e+00  0.000000e+00           1.000000e+00  2.856000e+01   \n",
       "max    4.280000e+02  1.159200e+02           1.000000e+00  5.000000e+03   \n",
       "std    3.896551e+00  2.128310e+00           2.183645e-01  2.338558e+01   \n",
       "\n",
       "       congestion_surcharge   Airport_fee      duration  \n",
       "count          2.824462e+06  2.824462e+06  2.964624e+06  \n",
       "mean           2.256122e+00  1.411611e-01  1.561295e+01  \n",
       "min           -2.500000e+00 -1.750000e+00 -1.356667e+01  \n",
       "25%            2.500000e+00  0.000000e+00  7.150000e+00  \n",
       "50%            2.500000e+00  0.000000e+00  1.163333e+01  \n",
       "75%            2.500000e+00  0.000000e+00  1.868333e+01  \n",
       "max            2.500000e+00  1.750000e+00  9.455400e+03  \n",
       "std            8.232747e-01  4.876239e-01  3.485105e+01  "
      ]
     },
     "execution_count": 6,
     "metadata": {},
     "output_type": "execute_result"
    }
   ],
   "source": [
    "jan_df.describe()"
   ]
  },
  {
   "cell_type": "markdown",
   "metadata": {},
   "source": [
    "I will limit the duration to 1 min - 90 mins (1 hour and 30 minutes)\n",
    "- Longer durations can be solved later"
   ]
  },
  {
   "cell_type": "code",
   "execution_count": 7,
   "metadata": {},
   "outputs": [
    {
     "data": {
      "text/plain": [
       "927.893333333324"
      ]
     },
     "execution_count": 7,
     "metadata": {},
     "output_type": "execute_result"
    }
   ],
   "source": [
    "jan_df[jan_df['duration'] > 60]['duration'].quantile(0.95)"
   ]
  },
  {
   "cell_type": "code",
   "execution_count": 8,
   "metadata": {},
   "outputs": [
    {
     "data": {
      "image/png": "[encoded data removed]",
      "text/plain": [
       "<Figure size 640x480 with 1 Axes>"
      ]
     },
     "metadata": {},
     "output_type": "display_data"
    }
   ],
   "source": [
    "jan_df.query('duration > 0 and duration <= 90')['duration'].hist();"
   ]
  },
  {
   "cell_type": "markdown",
   "metadata": {},
   "source": [
    "Looks reasonable distribution.  \n",
    "Let's look at location codes `PULocationID` and `DOLocationID`, which is pick up and drop off location ids respectively"
   ]
  },
  {
   "cell_type": "code",
   "execution_count": 9,
   "metadata": {},
   "outputs": [
    {
     "data": {
      "text/plain": [
       "(260, 261)"
      ]
     },
     "execution_count": 9,
     "metadata": {},
     "output_type": "execute_result"
    }
   ],
   "source": [
    "jan_df['PULocationID'].nunique(), jan_df['DOLocationID'].nunique()"
   ]
  },
  {
   "cell_type": "code",
   "execution_count": 10,
   "metadata": {},
   "outputs": [],
   "source": [
    "jan_df['PULocationID'] = jan_df['PULocationID'].astype(str)\n",
    "jan_df['DOLocationID'] = jan_df['DOLocationID'].astype(str)"
   ]
  },
  {
   "cell_type": "code",
   "execution_count": 11,
   "metadata": {},
   "outputs": [],
   "source": [
    "jan_df['PU_DO'] = jan_df['PULocationID'] + \"_\" + jan_df['DOLocationID']"
   ]
  },
  {
   "cell_type": "markdown",
   "metadata": {},
   "source": [
    "- we have created this much location\n",
    "- We can try later to keep each column as it's and encode it."
   ]
  },
  {
   "cell_type": "code",
   "execution_count": 12,
   "metadata": {},
   "outputs": [
    {
     "data": {
      "text/plain": [
       "26335"
      ]
     },
     "execution_count": 12,
     "metadata": {},
     "output_type": "execute_result"
    }
   ],
   "source": [
    "# we have created this much location\n",
    "jan_df['PU_DO'].nunique()"
   ]
  },
  {
   "cell_type": "code",
   "execution_count": 13,
   "metadata": {},
   "outputs": [
    {
     "data": {
      "text/plain": [
       "VendorID                      0\n",
       "tpep_pickup_datetime          0\n",
       "tpep_dropoff_datetime         0\n",
       "passenger_count          140162\n",
       "trip_distance                 0\n",
       "RatecodeID               140162\n",
       "store_and_fwd_flag       140162\n",
       "PULocationID                  0\n",
       "DOLocationID                  0\n",
       "payment_type                  0\n",
       "fare_amount                   0\n",
       "extra                         0\n",
       "mta_tax                       0\n",
       "tip_amount                    0\n",
       "tolls_amount                  0\n",
       "improvement_surcharge         0\n",
       "total_amount                  0\n",
       "congestion_surcharge     140162\n",
       "Airport_fee              140162\n",
       "duration                      0\n",
       "PU_DO                         0\n",
       "dtype: int64"
      ]
     },
     "execution_count": 13,
     "metadata": {},
     "output_type": "execute_result"
    }
   ],
   "source": [
    "jan_df.isna().sum()"
   ]
  },
  {
   "cell_type": "code",
   "execution_count": 14,
   "metadata": {},
   "outputs": [
    {
     "data": {
      "text/plain": [
       "0.04727817085741733"
      ]
     },
     "execution_count": 14,
     "metadata": {},
     "output_type": "execute_result"
    }
   ],
   "source": [
    "140162 / jan_df.shape[0]"
   ]
  },
  {
   "cell_type": "code",
   "execution_count": 15,
   "metadata": {},
   "outputs": [
    {
     "data": {
      "text/plain": [
       "<AxesSubplot: >"
      ]
     },
     "execution_count": 15,
     "metadata": {},
     "output_type": "execute_result"
    },
    {
     "data": {
      "image/png": "[encoded data removed]",
      "text/plain": [
       "<Figure size 640x480 with 1 Axes>"
      ]
     },
     "metadata": {},
     "output_type": "display_data"
    }
   ],
   "source": [
    "jan_df['trip_distance'].hist()"
   ]
  },
  {
   "cell_type": "code",
   "execution_count": 16,
   "metadata": {},
   "outputs": [
    {
     "data": {
      "text/plain": [
       "312722.3"
      ]
     },
     "execution_count": 16,
     "metadata": {},
     "output_type": "execute_result"
    }
   ],
   "source": [
    "jan_df['trip_distance'].quantile(1)"
   ]
  },
  {
   "cell_type": "code",
   "execution_count": 17,
   "metadata": {},
   "outputs": [
    {
     "data": {
      "text/html": [
       "<div>\n",
       "<style scoped>\n",
       "    .dataframe tbody tr th:only-of-type {\n",
       "        vertical-align: middle;\n",
       "    }\n",
       "\n",
       "    .dataframe tbody tr th {\n",
       "        vertical-align: top;\n",
       "    }\n",
       "\n",
       "    .dataframe thead th {\n",
       "        text-align: right;\n",
       "    }\n",
       "</style>\n",
       "<table border=\"1\" class=\"dataframe\">\n",
       "  <thead>\n",
       "    <tr style=\"text-align: right;\">\n",
       "      <th></th>\n",
       "      <th>VendorID</th>\n",
       "      <th>tpep_pickup_datetime</th>\n",
       "      <th>tpep_dropoff_datetime</th>\n",
       "      <th>passenger_count</th>\n",
       "      <th>trip_distance</th>\n",
       "      <th>RatecodeID</th>\n",
       "      <th>store_and_fwd_flag</th>\n",
       "      <th>PULocationID</th>\n",
       "      <th>DOLocationID</th>\n",
       "      <th>payment_type</th>\n",
       "      <th>...</th>\n",
       "      <th>extra</th>\n",
       "      <th>mta_tax</th>\n",
       "      <th>tip_amount</th>\n",
       "      <th>tolls_amount</th>\n",
       "      <th>improvement_surcharge</th>\n",
       "      <th>total_amount</th>\n",
       "      <th>congestion_surcharge</th>\n",
       "      <th>Airport_fee</th>\n",
       "      <th>duration</th>\n",
       "      <th>PU_DO</th>\n",
       "    </tr>\n",
       "  </thead>\n",
       "  <tbody>\n",
       "    <tr>\n",
       "      <th>53119</th>\n",
       "      <td>2</td>\n",
       "      <td>2002-12-31 22:59:39</td>\n",
       "      <td>2002-12-31 23:05:41</td>\n",
       "      <td>1.0</td>\n",
       "      <td>0.63</td>\n",
       "      <td>1.0</td>\n",
       "      <td>N</td>\n",
       "      <td>170</td>\n",
       "      <td>170</td>\n",
       "      <td>3</td>\n",
       "      <td>...</td>\n",
       "      <td>0.00</td>\n",
       "      <td>-0.5</td>\n",
       "      <td>0.00</td>\n",
       "      <td>0.00</td>\n",
       "      <td>-1.0</td>\n",
       "      <td>-10.50</td>\n",
       "      <td>-2.5</td>\n",
       "      <td>0.00</td>\n",
       "      <td>6.033333</td>\n",
       "      <td>170_170</td>\n",
       "    </tr>\n",
       "    <tr>\n",
       "      <th>53120</th>\n",
       "      <td>2</td>\n",
       "      <td>2002-12-31 22:59:39</td>\n",
       "      <td>2002-12-31 23:05:41</td>\n",
       "      <td>1.0</td>\n",
       "      <td>0.63</td>\n",
       "      <td>1.0</td>\n",
       "      <td>N</td>\n",
       "      <td>170</td>\n",
       "      <td>170</td>\n",
       "      <td>3</td>\n",
       "      <td>...</td>\n",
       "      <td>0.00</td>\n",
       "      <td>0.5</td>\n",
       "      <td>0.00</td>\n",
       "      <td>0.00</td>\n",
       "      <td>1.0</td>\n",
       "      <td>10.50</td>\n",
       "      <td>2.5</td>\n",
       "      <td>0.00</td>\n",
       "      <td>6.033333</td>\n",
       "      <td>170_170</td>\n",
       "    </tr>\n",
       "    <tr>\n",
       "      <th>2558056</th>\n",
       "      <td>2</td>\n",
       "      <td>2009-01-01 00:24:09</td>\n",
       "      <td>2009-01-01 01:13:00</td>\n",
       "      <td>2.0</td>\n",
       "      <td>10.88</td>\n",
       "      <td>1.0</td>\n",
       "      <td>N</td>\n",
       "      <td>138</td>\n",
       "      <td>264</td>\n",
       "      <td>2</td>\n",
       "      <td>...</td>\n",
       "      <td>9.25</td>\n",
       "      <td>0.5</td>\n",
       "      <td>0.00</td>\n",
       "      <td>6.94</td>\n",
       "      <td>1.0</td>\n",
       "      <td>68.29</td>\n",
       "      <td>0.0</td>\n",
       "      <td>0.00</td>\n",
       "      <td>48.850000</td>\n",
       "      <td>138_264</td>\n",
       "    </tr>\n",
       "    <tr>\n",
       "      <th>1230169</th>\n",
       "      <td>2</td>\n",
       "      <td>2009-01-01 23:30:39</td>\n",
       "      <td>2009-01-02 00:01:39</td>\n",
       "      <td>1.0</td>\n",
       "      <td>10.99</td>\n",
       "      <td>1.0</td>\n",
       "      <td>N</td>\n",
       "      <td>237</td>\n",
       "      <td>264</td>\n",
       "      <td>2</td>\n",
       "      <td>...</td>\n",
       "      <td>3.50</td>\n",
       "      <td>0.5</td>\n",
       "      <td>0.00</td>\n",
       "      <td>0.00</td>\n",
       "      <td>1.0</td>\n",
       "      <td>50.00</td>\n",
       "      <td>0.0</td>\n",
       "      <td>0.00</td>\n",
       "      <td>31.000000</td>\n",
       "      <td>237_264</td>\n",
       "    </tr>\n",
       "    <tr>\n",
       "      <th>10915</th>\n",
       "      <td>2</td>\n",
       "      <td>2009-01-01 23:58:40</td>\n",
       "      <td>2009-01-02 00:01:40</td>\n",
       "      <td>1.0</td>\n",
       "      <td>0.46</td>\n",
       "      <td>1.0</td>\n",
       "      <td>N</td>\n",
       "      <td>137</td>\n",
       "      <td>264</td>\n",
       "      <td>2</td>\n",
       "      <td>...</td>\n",
       "      <td>3.50</td>\n",
       "      <td>0.5</td>\n",
       "      <td>0.00</td>\n",
       "      <td>0.00</td>\n",
       "      <td>1.0</td>\n",
       "      <td>9.40</td>\n",
       "      <td>0.0</td>\n",
       "      <td>0.00</td>\n",
       "      <td>3.000000</td>\n",
       "      <td>137_264</td>\n",
       "    </tr>\n",
       "    <tr>\n",
       "      <th>...</th>\n",
       "      <td>...</td>\n",
       "      <td>...</td>\n",
       "      <td>...</td>\n",
       "      <td>...</td>\n",
       "      <td>...</td>\n",
       "      <td>...</td>\n",
       "      <td>...</td>\n",
       "      <td>...</td>\n",
       "      <td>...</td>\n",
       "      <td>...</td>\n",
       "      <td>...</td>\n",
       "      <td>...</td>\n",
       "      <td>...</td>\n",
       "      <td>...</td>\n",
       "      <td>...</td>\n",
       "      <td>...</td>\n",
       "      <td>...</td>\n",
       "      <td>...</td>\n",
       "      <td>...</td>\n",
       "      <td>...</td>\n",
       "      <td>...</td>\n",
       "    </tr>\n",
       "    <tr>\n",
       "      <th>2822366</th>\n",
       "      <td>1</td>\n",
       "      <td>2024-01-31 23:59:54</td>\n",
       "      <td>2024-02-01 00:30:47</td>\n",
       "      <td>1.0</td>\n",
       "      <td>5.60</td>\n",
       "      <td>1.0</td>\n",
       "      <td>N</td>\n",
       "      <td>132</td>\n",
       "      <td>216</td>\n",
       "      <td>3</td>\n",
       "      <td>...</td>\n",
       "      <td>1.75</td>\n",
       "      <td>0.5</td>\n",
       "      <td>0.00</td>\n",
       "      <td>0.00</td>\n",
       "      <td>1.0</td>\n",
       "      <td>32.85</td>\n",
       "      <td>0.0</td>\n",
       "      <td>1.75</td>\n",
       "      <td>30.883333</td>\n",
       "      <td>132_216</td>\n",
       "    </tr>\n",
       "    <tr>\n",
       "      <th>2823129</th>\n",
       "      <td>2</td>\n",
       "      <td>2024-01-31 23:59:55</td>\n",
       "      <td>2024-02-01 00:09:38</td>\n",
       "      <td>1.0</td>\n",
       "      <td>1.66</td>\n",
       "      <td>1.0</td>\n",
       "      <td>N</td>\n",
       "      <td>68</td>\n",
       "      <td>246</td>\n",
       "      <td>1</td>\n",
       "      <td>...</td>\n",
       "      <td>1.00</td>\n",
       "      <td>0.5</td>\n",
       "      <td>2.00</td>\n",
       "      <td>0.00</td>\n",
       "      <td>1.0</td>\n",
       "      <td>19.10</td>\n",
       "      <td>2.5</td>\n",
       "      <td>0.00</td>\n",
       "      <td>9.716667</td>\n",
       "      <td>68_246</td>\n",
       "    </tr>\n",
       "    <tr>\n",
       "      <th>2822693</th>\n",
       "      <td>2</td>\n",
       "      <td>2024-02-01 00:00:17</td>\n",
       "      <td>2024-02-01 00:20:13</td>\n",
       "      <td>1.0</td>\n",
       "      <td>8.93</td>\n",
       "      <td>1.0</td>\n",
       "      <td>N</td>\n",
       "      <td>138</td>\n",
       "      <td>152</td>\n",
       "      <td>2</td>\n",
       "      <td>...</td>\n",
       "      <td>6.00</td>\n",
       "      <td>0.5</td>\n",
       "      <td>0.00</td>\n",
       "      <td>6.94</td>\n",
       "      <td>1.0</td>\n",
       "      <td>52.79</td>\n",
       "      <td>0.0</td>\n",
       "      <td>1.75</td>\n",
       "      <td>19.933333</td>\n",
       "      <td>138_152</td>\n",
       "    </tr>\n",
       "    <tr>\n",
       "      <th>2822633</th>\n",
       "      <td>2</td>\n",
       "      <td>2024-02-01 00:00:39</td>\n",
       "      <td>2024-02-01 00:12:08</td>\n",
       "      <td>5.0</td>\n",
       "      <td>2.22</td>\n",
       "      <td>1.0</td>\n",
       "      <td>N</td>\n",
       "      <td>186</td>\n",
       "      <td>79</td>\n",
       "      <td>1</td>\n",
       "      <td>...</td>\n",
       "      <td>1.00</td>\n",
       "      <td>0.5</td>\n",
       "      <td>3.70</td>\n",
       "      <td>0.00</td>\n",
       "      <td>1.0</td>\n",
       "      <td>22.20</td>\n",
       "      <td>2.5</td>\n",
       "      <td>0.00</td>\n",
       "      <td>11.483333</td>\n",
       "      <td>186_79</td>\n",
       "    </tr>\n",
       "    <tr>\n",
       "      <th>2823026</th>\n",
       "      <td>2</td>\n",
       "      <td>2024-02-01 00:01:15</td>\n",
       "      <td>2024-02-01 00:06:30</td>\n",
       "      <td>1.0</td>\n",
       "      <td>1.10</td>\n",
       "      <td>1.0</td>\n",
       "      <td>N</td>\n",
       "      <td>161</td>\n",
       "      <td>234</td>\n",
       "      <td>1</td>\n",
       "      <td>...</td>\n",
       "      <td>1.00</td>\n",
       "      <td>0.5</td>\n",
       "      <td>2.58</td>\n",
       "      <td>0.00</td>\n",
       "      <td>1.0</td>\n",
       "      <td>15.48</td>\n",
       "      <td>2.5</td>\n",
       "      <td>0.00</td>\n",
       "      <td>5.250000</td>\n",
       "      <td>161_234</td>\n",
       "    </tr>\n",
       "  </tbody>\n",
       "</table>\n",
       "<p>2964624 rows × 21 columns</p>\n",
       "</div>"
      ],
      "text/plain": [
       "         VendorID tpep_pickup_datetime tpep_dropoff_datetime  passenger_count  \\\n",
       "53119           2  2002-12-31 22:59:39   2002-12-31 23:05:41              1.0   \n",
       "53120           2  2002-12-31 22:59:39   2002-12-31 23:05:41              1.0   \n",
       "2558056         2  2009-01-01 00:24:09   2009-01-01 01:13:00              2.0   \n",
       "1230169         2  2009-01-01 23:30:39   2009-01-02 00:01:39              1.0   \n",
       "10915           2  2009-01-01 23:58:40   2009-01-02 00:01:40              1.0   \n",
       "...           ...                  ...                   ...              ...   \n",
       "2822366         1  2024-01-31 23:59:54   2024-02-01 00:30:47              1.0   \n",
       "2823129         2  2024-01-31 23:59:55   2024-02-01 00:09:38              1.0   \n",
       "2822693         2  2024-02-01 00:00:17   2024-02-01 00:20:13              1.0   \n",
       "2822633         2  2024-02-01 00:00:39   2024-02-01 00:12:08              5.0   \n",
       "2823026         2  2024-02-01 00:01:15   2024-02-01 00:06:30              1.0   \n",
       "\n",
       "         trip_distance  RatecodeID store_and_fwd_flag PULocationID  \\\n",
       "53119             0.63         1.0                  N          170   \n",
       "53120             0.63         1.0                  N          170   \n",
       "2558056          10.88         1.0                  N          138   \n",
       "1230169          10.99         1.0                  N          237   \n",
       "10915             0.46         1.0                  N          137   \n",
       "...                ...         ...                ...          ...   \n",
       "2822366           5.60         1.0                  N          132   \n",
       "2823129           1.66         1.0                  N           68   \n",
       "2822693           8.93         1.0                  N          138   \n",
       "2822633           2.22         1.0                  N          186   \n",
       "2823026           1.10         1.0                  N          161   \n",
       "\n",
       "        DOLocationID  payment_type  ...  extra  mta_tax  tip_amount  \\\n",
       "53119            170             3  ...   0.00     -0.5        0.00   \n",
       "53120            170             3  ...   0.00      0.5        0.00   \n",
       "2558056          264             2  ...   9.25      0.5        0.00   \n",
       "1230169          264             2  ...   3.50      0.5        0.00   \n",
       "10915            264             2  ...   3.50      0.5        0.00   \n",
       "...              ...           ...  ...    ...      ...         ...   \n",
       "2822366          216             3  ...   1.75      0.5        0.00   \n",
       "2823129          246             1  ...   1.00      0.5        2.00   \n",
       "2822693          152             2  ...   6.00      0.5        0.00   \n",
       "2822633           79             1  ...   1.00      0.5        3.70   \n",
       "2823026          234             1  ...   1.00      0.5        2.58   \n",
       "\n",
       "         tolls_amount  improvement_surcharge  total_amount  \\\n",
       "53119            0.00                   -1.0        -10.50   \n",
       "53120            0.00                    1.0         10.50   \n",
       "2558056          6.94                    1.0         68.29   \n",
       "1230169          0.00                    1.0         50.00   \n",
       "10915            0.00                    1.0          9.40   \n",
       "...               ...                    ...           ...   \n",
       "2822366          0.00                    1.0         32.85   \n",
       "2823129          0.00                    1.0         19.10   \n",
       "2822693          6.94                    1.0         52.79   \n",
       "2822633          0.00                    1.0         22.20   \n",
       "2823026          0.00                    1.0         15.48   \n",
       "\n",
       "         congestion_surcharge  Airport_fee   duration    PU_DO  \n",
       "53119                    -2.5         0.00   6.033333  170_170  \n",
       "53120                     2.5         0.00   6.033333  170_170  \n",
       "2558056                   0.0         0.00  48.850000  138_264  \n",
       "1230169                   0.0         0.00  31.000000  237_264  \n",
       "10915                     0.0         0.00   3.000000  137_264  \n",
       "...                       ...          ...        ...      ...  \n",
       "2822366                   0.0         1.75  30.883333  132_216  \n",
       "2823129                   2.5         0.00   9.716667   68_246  \n",
       "2822693                   0.0         1.75  19.933333  138_152  \n",
       "2822633                   2.5         0.00  11.483333   186_79  \n",
       "2823026                   2.5         0.00   5.250000  161_234  \n",
       "\n",
       "[2964624 rows x 21 columns]"
      ]
     },
     "execution_count": 17,
     "metadata": {},
     "output_type": "execute_result"
    }
   ],
   "source": [
    "jan_df.sort_values('tpep_pickup_datetime')"
   ]
  },
  {
   "cell_type": "code",
   "execution_count": 18,
   "metadata": {},
   "outputs": [],
   "source": [
    "numerical = ['trip_distance']\n",
    "categorical = ['PU_DO']\n",
    "target = 'duration'\n",
    "\n",
    "cols = numerical + categorical + [target]"
   ]
  },
  {
   "cell_type": "code",
   "execution_count": 19,
   "metadata": {},
   "outputs": [],
   "source": [
    "def preprocess_df(df: pd.DataFrame, select_cols: list) -> pd.DataFrame:\n",
    "    df = df.copy()\n",
    "\n",
    "    df = df[df['Airport_fee'].notna()]\n",
    "    \n",
    "    df['tpep_dropoff_datetime'] = pd.to_datetime(df['tpep_dropoff_datetime'])\n",
    "    df['tpep_pickup_datetime'] = pd.to_datetime(df['tpep_pickup_datetime'])\n",
    "    df['duration'] = (df['tpep_dropoff_datetime'] - df['tpep_pickup_datetime'])\n",
    "\n",
    "    # Convert to minutes\n",
    "    df['duration'] = df['duration'].dt.total_seconds() / 60\n",
    "\n",
    "    df = df.query('duration > 0 and duration <= 90')\n",
    "\n",
    "    df = df.reset_index(drop=True)\n",
    "\n",
    "    df['PULocationID'] = df['PULocationID'].astype(str)\n",
    "    df['DOLocationID'] = df['DOLocationID'].astype(str)\n",
    "\n",
    "    df['PU_DO'] = df['PULocationID'] + \"_\" + df['DOLocationID']\n",
    "    \n",
    "    # we will sort them\n",
    "    df = df.sort_values('tpep_pickup_datetime')\n",
    "    return df[select_cols]"
   ]
  },
  {
   "cell_type": "code",
   "execution_count": 20,
   "metadata": {},
   "outputs": [],
   "source": [
    "clean_jan_df = preprocess_df(jan_df, select_cols=cols)\n",
    "clean_feb_df = preprocess_df(feb_df, select_cols=cols)"
   ]
  },
  {
   "cell_type": "code",
   "execution_count": 21,
   "metadata": {},
   "outputs": [],
   "source": [
    "from sklearn.linear_model import LinearRegression\n",
    "from xgboost import XGBRegressor\n",
    "from catboost import CatBoostRegressor\n",
    "from lightgbm import LGBMRegressor\n",
    "from sklearn.feature_extraction import DictVectorizer\n",
    "from sklearn.metrics import r2_score, mean_squared_error"
   ]
  },
  {
   "cell_type": "code",
   "execution_count": 22,
   "metadata": {},
   "outputs": [],
   "source": [
    "train_dict = clean_jan_df[categorical + numerical].to_dict(orient=\"records\")\n",
    "test_dict = clean_feb_df[categorical + numerical].to_dict(orient=\"records\")\n",
    "\n",
    "dict_vectorizer = DictVectorizer()\n",
    "\n",
    "X_train = dict_vectorizer.fit_transform(train_dict)\n",
    "X_test = dict_vectorizer.transform(test_dict)"
   ]
  },
  {
   "cell_type": "code",
   "execution_count": 23,
   "metadata": {},
   "outputs": [],
   "source": [
    "y_train = clean_jan_df[target].values\n",
    "y_test = clean_feb_df[target].values"
   ]
  },
  {
   "cell_type": "code",
   "execution_count": 30,
   "metadata": {},
   "outputs": [],
   "source": [
    "lr_model = LinearRegression()\n",
    "xgb_model = XGBRegressor()\n",
    "catboost_model = CatBoostRegressor(iterations=300, verbose=0)\n",
    "lgbm_model = LGBMRegressor()"
   ]
  },
  {
   "cell_type": "code",
   "execution_count": 26,
   "metadata": {},
   "outputs": [
    {
     "data": {
      "text/plain": [
       "(21.189245823972964, 0.6945520297963983)"
      ]
     },
     "execution_count": 26,
     "metadata": {},
     "output_type": "execute_result"
    }
   ],
   "source": [
    "lr_model.fit(X_train, y_train)\n",
    "preds = lr_model.predict(X_test)\n",
    "rmse = mean_squared_error(y_test, preds) ** 1 / 2\n",
    "r2 = r2_score(y_test, preds)\n",
    "rmse, r2"
   ]
  },
  {
   "cell_type": "code",
   "execution_count": 27,
   "metadata": {},
   "outputs": [
    {
     "data": {
      "text/plain": [
       "(19.018748934290517, 0.7258402537754067)"
      ]
     },
     "execution_count": 27,
     "metadata": {},
     "output_type": "execute_result"
    }
   ],
   "source": [
    "xgb_model.fit(X_train, y_train)\n",
    "preds = xgb_model.predict(X_test)\n",
    "rmse = mean_squared_error(y_test, preds) ** 1 / 2\n",
    "r2 = r2_score(y_test, preds)\n",
    "rmse, r2"
   ]
  },
  {
   "cell_type": "code",
   "execution_count": 28,
   "metadata": {},
   "outputs": [
    {
     "data": {
      "text/plain": [
       "(19.007917548621265, 0.7259963907514299)"
      ]
     },
     "execution_count": 28,
     "metadata": {},
     "output_type": "execute_result"
    }
   ],
   "source": [
    "lgbm_model.fit(X_train, y_train)\n",
    "preds = lgbm_model.predict(X_test)\n",
    "rmse = mean_squared_error(y_test, preds) ** 1 / 2\n",
    "r2 = r2_score(y_test, preds)\n",
    "rmse, r2"
   ]
  },
  {
   "cell_type": "code",
   "execution_count": 31,
   "metadata": {},
   "outputs": [
    {
     "data": {
      "text/plain": [
       "(18.23656548209671, 0.7371156125014422)"
      ]
     },
     "execution_count": 31,
     "metadata": {},
     "output_type": "execute_result"
    }
   ],
   "source": [
    "catboost_model.fit(X_train, y_train)\n",
    "preds = catboost_model.predict(X_test)\n",
    "rmse = mean_squared_error(y_test, preds) ** 1 / 2\n",
    "r2 = r2_score(y_test, preds)\n",
    "rmse, r2"
   ]
  },
  {
   "cell_type": "code",
   "execution_count": null,
   "metadata": {},
   "outputs": [],
   "source": []
  }
 ],
 "metadata": {
  "kernelspec": {
   "display_name": "desaisiv",
   "language": "python",
   "name": "python3"
  },
  "language_info": {
   "codemirror_mode": {
    "name": "ipython",
    "version": 3
   },
   "file_extension": ".py",
   "mimetype": "text/x-python",
   "name": "python",
   "nbconvert_exporter": "python",
   "pygments_lexer": "ipython3",
   "version": "3.10.9"
  }
 },
 "nbformat": 4,
 "nbformat_minor": 2
}
